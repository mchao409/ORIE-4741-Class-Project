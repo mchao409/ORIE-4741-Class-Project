{
 "cells": [
  {
   "cell_type": "code",
   "execution_count": 75,
   "metadata": {},
   "outputs": [
    {
     "name": "stderr",
     "output_type": "stream",
     "text": [
      "\u001b[32m\u001b[1m  Resolving\u001b[22m\u001b[39m package versions...\n",
      "\u001b[32m\u001b[1mNo Changes\u001b[22m\u001b[39m to `~/.julia/environments/v1.5/Project.toml`\n",
      "\u001b[32m\u001b[1mNo Changes\u001b[22m\u001b[39m to `~/.julia/environments/v1.5/Manifest.toml`\n",
      "\u001b[32m\u001b[1m  Resolving\u001b[22m\u001b[39m package versions...\n",
      "\u001b[32m\u001b[1mNo Changes\u001b[22m\u001b[39m to `~/.julia/environments/v1.5/Project.toml`\n",
      "\u001b[32m\u001b[1mNo Changes\u001b[22m\u001b[39m to `~/.julia/environments/v1.5/Manifest.toml`\n"
     ]
    }
   ],
   "source": [
    "import Pkg;\n",
    "Pkg.add(\"PyPlot\")\n",
    "using PyPlot\n",
    "using Random, LinearAlgebra, Statistics, DataFrames, Plots\n",
    "Pkg.add(\"CSV\")\n",
    "using CSV"
   ]
  },
  {
   "cell_type": "code",
   "execution_count": 76,
   "metadata": {},
   "outputs": [],
   "source": [
    "using LowRankModels"
   ]
  },
  {
   "cell_type": "code",
   "execution_count": 106,
   "metadata": {},
   "outputs": [
    {
     "data": {
      "text/html": [
       "<table class=\"data-frame\"><thead><tr><th></th><th>date</th><th>max_temperature_f</th><th>mean_temperature_f</th><th>min_temperature_f</th><th>max_dew_point_f</th></tr><tr><th></th><th>String</th><th>Int64?</th><th>Int64?</th><th>Int64?</th><th>Int64?</th></tr></thead><tbody><p>6 rows × 24 columns (omitted printing of 19 columns)</p><tr><th>1</th><td>8/29/13</td><td>74</td><td>68</td><td>61</td><td>61</td></tr><tr><th>2</th><td>8/30/13</td><td>78</td><td>69</td><td>60</td><td>61</td></tr><tr><th>3</th><td>8/31/13</td><td>71</td><td>64</td><td>57</td><td>57</td></tr><tr><th>4</th><td>9/1/13</td><td>74</td><td>66</td><td>58</td><td>60</td></tr><tr><th>5</th><td>9/2/13</td><td>75</td><td>69</td><td>62</td><td>61</td></tr><tr><th>6</th><td>9/3/13</td><td>73</td><td>67</td><td>60</td><td>59</td></tr></tbody></table>"
      ],
      "text/latex": [
       "\\begin{tabular}{r|cccccc}\n",
       "\t& date & max\\_temperature\\_f & mean\\_temperature\\_f & min\\_temperature\\_f & max\\_dew\\_point\\_f & \\\\\n",
       "\t\\hline\n",
       "\t& String & Int64? & Int64? & Int64? & Int64? & \\\\\n",
       "\t\\hline\n",
       "\t1 & 8/29/13 & 74 & 68 & 61 & 61 & $\\dots$ \\\\\n",
       "\t2 & 8/30/13 & 78 & 69 & 60 & 61 & $\\dots$ \\\\\n",
       "\t3 & 8/31/13 & 71 & 64 & 57 & 57 & $\\dots$ \\\\\n",
       "\t4 & 9/1/13 & 74 & 66 & 58 & 60 & $\\dots$ \\\\\n",
       "\t5 & 9/2/13 & 75 & 69 & 62 & 61 & $\\dots$ \\\\\n",
       "\t6 & 9/3/13 & 73 & 67 & 60 & 59 & $\\dots$ \\\\\n",
       "\\end{tabular}\n"
      ],
      "text/plain": [
       "6×24 DataFrame. Omitted printing of 20 columns\n",
       "│ Row │ date    │ max_temperature_f │ mean_temperature_f │ min_temperature_f │\n",
       "│     │ \u001b[90mString\u001b[39m  │ \u001b[90mInt64?\u001b[39m            │ \u001b[90mInt64?\u001b[39m             │ \u001b[90mInt64?\u001b[39m            │\n",
       "├─────┼─────────┼───────────────────┼────────────────────┼───────────────────┤\n",
       "│ 1   │ 8/29/13 │ 74                │ 68                 │ 61                │\n",
       "│ 2   │ 8/30/13 │ 78                │ 69                 │ 60                │\n",
       "│ 3   │ 8/31/13 │ 71                │ 64                 │ 57                │\n",
       "│ 4   │ 9/1/13  │ 74                │ 66                 │ 58                │\n",
       "│ 5   │ 9/2/13  │ 75                │ 69                 │ 62                │\n",
       "│ 6   │ 9/3/13  │ 73                │ 67                 │ 60                │"
      ]
     },
     "execution_count": 106,
     "metadata": {},
     "output_type": "execute_result"
    }
   ],
   "source": [
    "data = CSV.read(\"weather.csv\")\n",
    "head(data)"
   ]
  },
  {
   "cell_type": "code",
   "execution_count": 108,
   "metadata": {},
   "outputs": [
    {
     "name": "stdout",
     "output_type": "stream",
     "text": [
      "1\tdate\tString\n",
      "2\tmax_temperature_f\tUnion{Missing, Int64}\n",
      "3\tmean_temperature_f\tUnion{Missing, Int64}\n",
      "4\tmin_temperature_f\tUnion{Missing, Int64}\n",
      "5\tmax_dew_point_f\tUnion{Missing, Int64}\n",
      "6\tmean_dew_point_f\tUnion{Missing, Int64}\n",
      "7\tmin_dew_point_f\tUnion{Missing, Int64}\n",
      "8\tmax_humidity\tUnion{Missing, Int64}\n",
      "9\tmean_humidity\tUnion{Missing, Int64}\n",
      "10\tmin_humidity\tUnion{Missing, Int64}\n",
      "11\tmax_sea_level_pressure_inches\tUnion{Missing, Float64}\n",
      "12\tmean_sea_level_pressure_inches\tUnion{Missing, Float64}\n",
      "13\tmin_sea_level_pressure_inches\tUnion{Missing, Float64}\n",
      "14\tmax_visibility_miles\tUnion{Missing, Int64}\n",
      "15\tmean_visibility_miles\tUnion{Missing, Int64}\n",
      "16\tmin_visibility_miles\tUnion{Missing, Int64}\n",
      "17\tmax_wind_Speed_mph\tUnion{Missing, Int64}\n",
      "18\tmean_wind_speed_mph\tUnion{Missing, Int64}\n",
      "19\tmax_gust_speed_mph\tUnion{Missing, Int64}\n",
      "20\tprecipitation_inches\tUnion{Missing, Float64}\n",
      "21\tcloud_cover\tUnion{Missing, Int64}\n",
      "22\tevents\tUnion{Missing, String}\n",
      "23\twind_dir_degrees\tUnion{Missing, Int64}\n",
      "24\tzip_code\tInt64\n"
     ]
    }
   ],
   "source": [
    "# Look at the column names\n",
    "feature_names = names(data)\n",
    "for i in 1:size(data)[2]\n",
    "    println(string(i), \"\\t\", string(feature_names[i]), \"\\t\", string(eltype(data[!, i])))\n",
    "end"
   ]
  },
  {
   "cell_type": "code",
   "execution_count": 109,
   "metadata": {},
   "outputs": [],
   "source": [
    "# inserts \"None\" for every blank cell in Events \n",
    "# data.events = coalesce.(data.events, \"None\")\n",
    "\n",
    "# TODO: delete row 2912 (since that row is completely empty: 8/8/15)"
   ]
  },
  {
   "cell_type": "code",
   "execution_count": 110,
   "metadata": {},
   "outputs": [
    {
     "data": {
      "text/plain": [
       "144-element Array{Any,1}:\n",
       " (20, 33)\n",
       " (20, 60)\n",
       " (20, 76)\n",
       " (20, 85)\n",
       " (20, 96)\n",
       " (20, 132)\n",
       " (20, 134)\n",
       " (20, 136)\n",
       " (20, 154)\n",
       " (20, 155)\n",
       " (20, 166)\n",
       " (20, 171)\n",
       " (20, 373)\n",
       " ⋮\n",
       " (20, 3525)\n",
       " (20, 3536)\n",
       " (20, 3561)\n",
       " (20, 3564)\n",
       " (20, 3582)\n",
       " (20, 3604)\n",
       " (20, 3606)\n",
       " (20, 3612)\n",
       " (20, 3613)\n",
       " (20, 3622)\n",
       " (20, 3634)\n",
       " (20, 3653)"
      ]
     },
     "execution_count": 110,
     "metadata": {},
     "output_type": "execute_result"
    }
   ],
   "source": [
    "# locate missing data in the precipitation_inches column (column #20)\n",
    "missingList = []\n",
    "\n",
    "for row in 1:size(data)[1]\n",
    "    if ismissing(data[row,20])\n",
    "        push!(missingList, (20,row))\n",
    "    end\n",
    "end\n",
    "\n",
    "# in total there are 143 missing elements that come from:\n",
    "# cols 20\n",
    "# rows 33, 60, 76 ... , 3653\n",
    "\n",
    "missingList"
   ]
  },
  {
   "cell_type": "code",
   "execution_count": 111,
   "metadata": {},
   "outputs": [
    {
     "data": {
      "text/html": [
       "<table class=\"data-frame\"><thead><tr><th></th><th>max_temperature_f</th><th>mean_temperature_f</th><th>min_temperature_f</th><th>max_dew_point_f</th><th>mean_dew_point_f</th></tr><tr><th></th><th>Int64?</th><th>Int64?</th><th>Int64?</th><th>Int64?</th><th>Int64?</th></tr></thead><tbody><p>3,665 rows × 20 columns (omitted printing of 15 columns)</p><tr><th>1</th><td>74</td><td>68</td><td>61</td><td>61</td><td>58</td></tr><tr><th>2</th><td>78</td><td>69</td><td>60</td><td>61</td><td>58</td></tr><tr><th>3</th><td>71</td><td>64</td><td>57</td><td>57</td><td>56</td></tr><tr><th>4</th><td>74</td><td>66</td><td>58</td><td>60</td><td>56</td></tr><tr><th>5</th><td>75</td><td>69</td><td>62</td><td>61</td><td>60</td></tr><tr><th>6</th><td>73</td><td>67</td><td>60</td><td>59</td><td>56</td></tr><tr><th>7</th><td>74</td><td>68</td><td>61</td><td>59</td><td>57</td></tr><tr><th>8</th><td>72</td><td>66</td><td>60</td><td>57</td><td>56</td></tr><tr><th>9</th><td>85</td><td>71</td><td>56</td><td>57</td><td>51</td></tr><tr><th>10</th><td>88</td><td>73</td><td>58</td><td>64</td><td>54</td></tr><tr><th>11</th><td>74</td><td>65</td><td>56</td><td>58</td><td>54</td></tr><tr><th>12</th><td>76</td><td>66</td><td>55</td><td>58</td><td>55</td></tr><tr><th>13</th><td>74</td><td>66</td><td>57</td><td>59</td><td>56</td></tr><tr><th>14</th><td>74</td><td>68</td><td>62</td><td>57</td><td>55</td></tr><tr><th>15</th><td>71</td><td>65</td><td>59</td><td>58</td><td>57</td></tr><tr><th>16</th><td>66</td><td>62</td><td>57</td><td>55</td><td>54</td></tr><tr><th>17</th><td>66</td><td>62</td><td>57</td><td>55</td><td>54</td></tr><tr><th>18</th><td>73</td><td>66</td><td>58</td><td>59</td><td>55</td></tr><tr><th>19</th><td>71</td><td>65</td><td>59</td><td>58</td><td>55</td></tr><tr><th>20</th><td>68</td><td>63</td><td>57</td><td>55</td><td>53</td></tr><tr><th>21</th><td>78</td><td>66</td><td>54</td><td>55</td><td>49</td></tr><tr><th>22</th><td>80</td><td>67</td><td>54</td><td>56</td><td>50</td></tr><tr><th>23</th><td>73</td><td>65</td><td>56</td><td>59</td><td>56</td></tr><tr><th>24</th><td>68</td><td>63</td><td>58</td><td>59</td><td>56</td></tr><tr><th>25</th><td>70</td><td>63</td><td>55</td><td>55</td><td>53</td></tr><tr><th>26</th><td>78</td><td>68</td><td>57</td><td>58</td><td>54</td></tr><tr><th>27</th><td>71</td><td>65</td><td>58</td><td>54</td><td>52</td></tr><tr><th>28</th><td>67</td><td>62</td><td>56</td><td>51</td><td>47</td></tr><tr><th>29</th><td>71</td><td>62</td><td>53</td><td>46</td><td>43</td></tr><tr><th>30</th><td>78</td><td>66</td><td>54</td><td>47</td><td>41</td></tr><tr><th>&vellip;</th><td>&vellip;</td><td>&vellip;</td><td>&vellip;</td><td>&vellip;</td><td>&vellip;</td></tr></tbody></table>"
      ],
      "text/latex": [
       "\\begin{tabular}{r|cccccc}\n",
       "\t& max\\_temperature\\_f & mean\\_temperature\\_f & min\\_temperature\\_f & max\\_dew\\_point\\_f & mean\\_dew\\_point\\_f & \\\\\n",
       "\t\\hline\n",
       "\t& Int64? & Int64? & Int64? & Int64? & Int64? & \\\\\n",
       "\t\\hline\n",
       "\t1 & 74 & 68 & 61 & 61 & 58 & $\\dots$ \\\\\n",
       "\t2 & 78 & 69 & 60 & 61 & 58 & $\\dots$ \\\\\n",
       "\t3 & 71 & 64 & 57 & 57 & 56 & $\\dots$ \\\\\n",
       "\t4 & 74 & 66 & 58 & 60 & 56 & $\\dots$ \\\\\n",
       "\t5 & 75 & 69 & 62 & 61 & 60 & $\\dots$ \\\\\n",
       "\t6 & 73 & 67 & 60 & 59 & 56 & $\\dots$ \\\\\n",
       "\t7 & 74 & 68 & 61 & 59 & 57 & $\\dots$ \\\\\n",
       "\t8 & 72 & 66 & 60 & 57 & 56 & $\\dots$ \\\\\n",
       "\t9 & 85 & 71 & 56 & 57 & 51 & $\\dots$ \\\\\n",
       "\t10 & 88 & 73 & 58 & 64 & 54 & $\\dots$ \\\\\n",
       "\t11 & 74 & 65 & 56 & 58 & 54 & $\\dots$ \\\\\n",
       "\t12 & 76 & 66 & 55 & 58 & 55 & $\\dots$ \\\\\n",
       "\t13 & 74 & 66 & 57 & 59 & 56 & $\\dots$ \\\\\n",
       "\t14 & 74 & 68 & 62 & 57 & 55 & $\\dots$ \\\\\n",
       "\t15 & 71 & 65 & 59 & 58 & 57 & $\\dots$ \\\\\n",
       "\t16 & 66 & 62 & 57 & 55 & 54 & $\\dots$ \\\\\n",
       "\t17 & 66 & 62 & 57 & 55 & 54 & $\\dots$ \\\\\n",
       "\t18 & 73 & 66 & 58 & 59 & 55 & $\\dots$ \\\\\n",
       "\t19 & 71 & 65 & 59 & 58 & 55 & $\\dots$ \\\\\n",
       "\t20 & 68 & 63 & 57 & 55 & 53 & $\\dots$ \\\\\n",
       "\t21 & 78 & 66 & 54 & 55 & 49 & $\\dots$ \\\\\n",
       "\t22 & 80 & 67 & 54 & 56 & 50 & $\\dots$ \\\\\n",
       "\t23 & 73 & 65 & 56 & 59 & 56 & $\\dots$ \\\\\n",
       "\t24 & 68 & 63 & 58 & 59 & 56 & $\\dots$ \\\\\n",
       "\t25 & 70 & 63 & 55 & 55 & 53 & $\\dots$ \\\\\n",
       "\t26 & 78 & 68 & 57 & 58 & 54 & $\\dots$ \\\\\n",
       "\t27 & 71 & 65 & 58 & 54 & 52 & $\\dots$ \\\\\n",
       "\t28 & 67 & 62 & 56 & 51 & 47 & $\\dots$ \\\\\n",
       "\t29 & 71 & 62 & 53 & 46 & 43 & $\\dots$ \\\\\n",
       "\t30 & 78 & 66 & 54 & 47 & 41 & $\\dots$ \\\\\n",
       "\t$\\dots$ & $\\dots$ & $\\dots$ & $\\dots$ & $\\dots$ & $\\dots$ &  \\\\\n",
       "\\end{tabular}\n"
      ],
      "text/plain": [
       "3665×20 DataFrame. Omitted printing of 17 columns\n",
       "│ Row  │ max_temperature_f │ mean_temperature_f │ min_temperature_f │\n",
       "│      │ \u001b[90mInt64?\u001b[39m            │ \u001b[90mInt64?\u001b[39m             │ \u001b[90mInt64?\u001b[39m            │\n",
       "├──────┼───────────────────┼────────────────────┼───────────────────┤\n",
       "│ 1    │ 74                │ 68                 │ 61                │\n",
       "│ 2    │ 78                │ 69                 │ 60                │\n",
       "│ 3    │ 71                │ 64                 │ 57                │\n",
       "│ 4    │ 74                │ 66                 │ 58                │\n",
       "│ 5    │ 75                │ 69                 │ 62                │\n",
       "│ 6    │ 73                │ 67                 │ 60                │\n",
       "│ 7    │ 74                │ 68                 │ 61                │\n",
       "│ 8    │ 72                │ 66                 │ 60                │\n",
       "│ 9    │ 85                │ 71                 │ 56                │\n",
       "│ 10   │ 88                │ 73                 │ 58                │\n",
       "⋮\n",
       "│ 3655 │ 79                │ 70                 │ 60                │\n",
       "│ 3656 │ 81                │ 70                 │ 59                │\n",
       "│ 3657 │ 77                │ 69                 │ 60                │\n",
       "│ 3658 │ 77                │ 70                 │ 62                │\n",
       "│ 3659 │ 80                │ 70                 │ 59                │\n",
       "│ 3660 │ 86                │ 73                 │ 59                │\n",
       "│ 3661 │ 92                │ 78                 │ 63                │\n",
       "│ 3662 │ 95                │ 80                 │ 64                │\n",
       "│ 3663 │ 80                │ 72                 │ 64                │\n",
       "│ 3664 │ 78                │ 70                 │ 62                │\n",
       "│ 3665 │ 85                │ 72                 │ 59                │"
      ]
     },
     "execution_count": 111,
     "metadata": {},
     "output_type": "execute_result"
    }
   ],
   "source": [
    "# impute missing data\n",
    "# losses = Loss[QuadLoss(), LogisticLoss(), HingeLoss()]\n",
    "# rw = Regularizer[QuadReg(), QuadReg(), OneReg()]\n",
    "\n",
    "data = data[:,2:21]"
   ]
  },
  {
   "cell_type": "code",
   "execution_count": 112,
   "metadata": {},
   "outputs": [],
   "source": [
    "# impute missing data\n",
    "# losses = Loss[QuadLoss(), LogisticLoss(), HingeLoss()]\n",
    "# rw = Regularizer[QuadReg(), QuadReg(), OneReg()]\n",
    "\n",
    "Y = data\n",
    "l2 = QuadLoss()\n",
    "l1 = L1Loss()\n",
    "nonneg = NonNegConstraint()\n",
    "quad = QuadReg()\n",
    "lin = OneReg()\n",
    "zero = ZeroReg()\n",
    "k = size(data)[2]\n",
    "\n",
    "Ω = [(x,y) for x=1:size(data)[1] , y=1:size(data)[2] if !ismissing(data[x,y])];"
   ]
  },
  {
   "cell_type": "code",
   "execution_count": 113,
   "metadata": {},
   "outputs": [
    {
     "name": "stdout",
     "output_type": "stream",
     "text": [
      "Fitting GLRM\n",
      "Iteration 10: objective value = 235957.15047449208\n",
      "Iteration 20: objective value = 154649.80341078053\n",
      "Iteration 30: objective value = 118212.17888411047\n",
      "Iteration 40: objective value = 104296.74068819407\n",
      "Iteration 50: objective value = 96990.41016436975\n",
      "Iteration 60: objective value = 92962.11839368596\n",
      "Iteration 70: objective value = 90342.75162101831\n",
      "Iteration 80: objective value = 88469.59460815018\n",
      "Iteration 90: objective value = 87165.7164524791\n",
      "Iteration 100: objective value = 86064.97690892006\n"
     ]
    },
    {
     "data": {
      "text/plain": [
       "([0.3897166832568605 0.8687070737616609 … 0.7517461045546836 1.1510990806529349; -0.22463188656062602 -0.8841589085208649 … -0.9534371433772229 -0.30447722300758245; … ; 1.2036346525581214 0.8315647027612765 … 0.7459642258133946 1.4414461315196136; -0.2146618619866524 0.3689563034677936 … 1.332604174832134 1.2981371692813681], [5.39456801172819 4.8862507202872125 … 0.9185592614646534 -0.8077788007280942; -0.7035091121420111 -1.0732613349364652 … -1.1190590695750573 -0.08948186627411146; … ; 5.492789216361133 4.284830568784399 … 0.5287859442371065 0.2903284992230952; 4.824648753926481 4.061347709204127 … 0.7404450836334228 -0.014011658797938647], ConvergenceHistory(\"ProxGradGLRM\", [2.6084445799052287e6, 2.485459231691199e6, 2.2969431272329143e6, 1.484104821690426e6, 633039.0283837395, 433684.9090956645, 353650.86458601896, 300869.88251595537, 272206.15005448606, 249896.32992373902  …  87050.58888653036, 86931.50690669953, 86797.94320644831, 86672.6873539754, 86552.92618409861, 86443.36349629774, 86331.14024215374, 86233.2779662985, 86140.3057531407, 86064.97690892006], Float64[], [0.0, 0.0, 0.0, 0.0, 0.0, 0.0, 0.0, 0.0, 0.0, 0.0  …  0.0, 0.0, 0.0, 0.0, 0.0, 0.0, 0.0, 0.0, 0.0, 0.0], [0.0, 0.0, 0.0, 0.0, 0.0, 0.0, 0.0, 0.0, 0.0, 0.0  …  0.0, 0.0, 0.0, 0.0, 0.0, 0.0, 0.0, 0.0, 0.0, 0.0], [0.0, 0.16143083572387695, 0.3828468322753906, 0.5552158355712891, 1.0315148830413818, 1.3282368183135986, 1.8635447025299072, 2.0882275104522705, 2.2884654998779297, 2.5192015171051025  …  17.89889097213745, 18.085980892181396, 18.253057956695557, 18.44399094581604, 18.643127918243408, 18.846446990966797, 19.016610860824585, 19.204683780670166, 19.381884813308716, 19.549949884414673], [0.0, 0.0, 0.0, 0.0, 0.0, 0.0, 0.0, 0.0, 0.0, 0.0  …  0.0, 0.0, 0.0, 0.0, 0.0, 0.0, 0.0, 0.0, 0.0, 0.0], 0))"
      ]
     },
     "execution_count": 113,
     "metadata": {},
     "output_type": "execute_result"
    }
   ],
   "source": [
    "glrm = GLRM(Y, l1, quad, quad, k, obs=Ω)\n",
    "X,W,ch = fit!(glrm, maxiter=1000)"
   ]
  },
  {
   "cell_type": "code",
   "execution_count": 114,
   "metadata": {},
   "outputs": [
    {
     "data": {
      "text/plain": [
       "3665×20 Array{Number,2}:\n",
       " 74  68  61  61  58  56  93  75  57  30.07  …  10  10  10  23  11  28  0.0  4\n",
       " 78  69  60  61  58  56  90  70  50  30.05     10  10   7  29  13  35  0.0  2\n",
       " 71  64  57  57  56  54  93  75  57  30.0      10  10  10  26  15  31  0.0  4\n",
       " 74  66  58  60  56  53  87  68  49  29.96     10  10  10  25  13  29  0.0  4\n",
       " 75  69  62  61  60  58  93  77  61  29.97     10  10   6  23  12  30  0.0  6\n",
       " 73  67  60  59  56  51  84  65  46  30.02  …  10  10  10  24  15  31  0.0  2\n",
       " 74  68  61  59  57  56  90  72  53  30.05     10  10  10  29  19  35  0.0  4\n",
       " 72  66  60  57  56  54  90  74  57  30.04     10  10  10  31  21  37  0.0  3\n",
       " 85  71  56  57  51  45  86  58  29  30.0      10  10  10  24   8  28  0.0  0\n",
       " 88  73  58  64  54  46  86  59  31  29.88     10  10  10  21   8  25  0.0  1\n",
       " 74  65  56  58  54  52  86  70  53  29.88  …  10  10  10  26  11  31  0.0  2\n",
       " 76  66  55  58  55  52  90  70  50  29.82     10  10  10  26  11  30  0.0  1\n",
       " 74  66  57  59  56  54  93  73  53  29.91     10  10  10  17   8  21  0.0  1\n",
       "  ⋮                   ⋮                     ⋱               ⋮               \n",
       " 75  69  62  59  58  57  84  71  57  29.93     10  10   9  15   6  18  0.0  4\n",
       " 79  70  60  60  57  55  84  67  50  29.91     10  10   8  16   8  21  0.0  3\n",
       " 81  70  59  60  56  55  87  66  45  29.95  …  10  10  10  16   7  20  0.0  4\n",
       " 77  69  60  59  57  55  90  72  54  30.02     10  10  10  16   7  20  0.0  6\n",
       " 77  70  62  59  57  57  84  67  50  30.06     10  10   9  15   7  18  0.0  3\n",
       " 80  70  59  60  58  57  90  71  52  30.01     10   9   6  16   6  20  0.0  4\n",
       " 86  73  59  59  54  40  90  55  20  30.04     10   9   5  14   5  17  0.0  3\n",
       " 92  78  63  57  51  40  78  48  18  30.05  …  10  10  10  23   6  29  0.0  3\n",
       " 95  80  64  64  56  52  93  60  26  29.96     10  10  10  25   7  30  0.0  3\n",
       " 80  72  64  65  62  54  93  70  47  30.01     10  10  10  21   9  26  0.0  4\n",
       " 78  70  62  60  57  53  84  64  43  30.06     10  10  10  22  10  29  0.0  3\n",
       " 85  72  59  59  55  51  84  58  32  29.95     10  10  10  20   6  24  0.0  1"
      ]
     },
     "execution_count": 114,
     "metadata": {},
     "output_type": "execute_result"
    }
   ],
   "source": [
    "imputed_data = impute_missing(glrm)"
   ]
  },
  {
   "cell_type": "code",
   "execution_count": 115,
   "metadata": {},
   "outputs": [
    {
     "data": {
      "text/plain": [
       "5-element Array{Number,1}:\n",
       " 0.0\n",
       " 0.0\n",
       " 0.0\n",
       " 0.0\n",
       " 0.0"
      ]
     },
     "execution_count": 115,
     "metadata": {},
     "output_type": "execute_result"
    }
   ],
   "source": [
    "convert(DataFrame, imputed_data)\n",
    "\n",
    "# ensures that precipitation_inches >= 0\n",
    "for i = 1:3665\n",
    "    imputed_data[i,19] = max(0, imputed_data[i,19]);\n",
    "end\n",
    "\n",
    "imputed_data[31:35,19]"
   ]
  },
  {
   "cell_type": "code",
   "execution_count": 116,
   "metadata": {},
   "outputs": [
    {
     "data": {
      "text/html": [
       "<table class=\"data-frame\"><thead><tr><th></th><th>date</th><th>max_temperature_f</th><th>mean_temperature_f</th><th>min_temperature_f</th><th>max_dew_point_f</th></tr><tr><th></th><th>String</th><th>Int64?</th><th>Int64?</th><th>Int64?</th><th>Int64?</th></tr></thead><tbody><p>3,665 rows × 24 columns (omitted printing of 19 columns)</p><tr><th>1</th><td>8/29/13</td><td>74</td><td>68</td><td>61</td><td>61</td></tr><tr><th>2</th><td>8/30/13</td><td>78</td><td>69</td><td>60</td><td>61</td></tr><tr><th>3</th><td>8/31/13</td><td>71</td><td>64</td><td>57</td><td>57</td></tr><tr><th>4</th><td>9/1/13</td><td>74</td><td>66</td><td>58</td><td>60</td></tr><tr><th>5</th><td>9/2/13</td><td>75</td><td>69</td><td>62</td><td>61</td></tr><tr><th>6</th><td>9/3/13</td><td>73</td><td>67</td><td>60</td><td>59</td></tr><tr><th>7</th><td>9/4/13</td><td>74</td><td>68</td><td>61</td><td>59</td></tr><tr><th>8</th><td>9/5/13</td><td>72</td><td>66</td><td>60</td><td>57</td></tr><tr><th>9</th><td>9/6/13</td><td>85</td><td>71</td><td>56</td><td>57</td></tr><tr><th>10</th><td>9/7/13</td><td>88</td><td>73</td><td>58</td><td>64</td></tr><tr><th>11</th><td>9/8/13</td><td>74</td><td>65</td><td>56</td><td>58</td></tr><tr><th>12</th><td>9/9/13</td><td>76</td><td>66</td><td>55</td><td>58</td></tr><tr><th>13</th><td>9/10/13</td><td>74</td><td>66</td><td>57</td><td>59</td></tr><tr><th>14</th><td>9/11/13</td><td>74</td><td>68</td><td>62</td><td>57</td></tr><tr><th>15</th><td>9/12/13</td><td>71</td><td>65</td><td>59</td><td>58</td></tr><tr><th>16</th><td>9/13/13</td><td>66</td><td>62</td><td>57</td><td>55</td></tr><tr><th>17</th><td>9/14/13</td><td>66</td><td>62</td><td>57</td><td>55</td></tr><tr><th>18</th><td>9/15/13</td><td>73</td><td>66</td><td>58</td><td>59</td></tr><tr><th>19</th><td>9/16/13</td><td>71</td><td>65</td><td>59</td><td>58</td></tr><tr><th>20</th><td>9/17/13</td><td>68</td><td>63</td><td>57</td><td>55</td></tr><tr><th>21</th><td>9/18/13</td><td>78</td><td>66</td><td>54</td><td>55</td></tr><tr><th>22</th><td>9/19/13</td><td>80</td><td>67</td><td>54</td><td>56</td></tr><tr><th>23</th><td>9/20/13</td><td>73</td><td>65</td><td>56</td><td>59</td></tr><tr><th>24</th><td>9/21/13</td><td>68</td><td>63</td><td>58</td><td>59</td></tr><tr><th>25</th><td>9/22/13</td><td>70</td><td>63</td><td>55</td><td>55</td></tr><tr><th>26</th><td>9/23/13</td><td>78</td><td>68</td><td>57</td><td>58</td></tr><tr><th>27</th><td>9/24/13</td><td>71</td><td>65</td><td>58</td><td>54</td></tr><tr><th>28</th><td>9/25/13</td><td>67</td><td>62</td><td>56</td><td>51</td></tr><tr><th>29</th><td>9/26/13</td><td>71</td><td>62</td><td>53</td><td>46</td></tr><tr><th>30</th><td>9/27/13</td><td>78</td><td>66</td><td>54</td><td>47</td></tr><tr><th>&vellip;</th><td>&vellip;</td><td>&vellip;</td><td>&vellip;</td><td>&vellip;</td><td>&vellip;</td></tr></tbody></table>"
      ],
      "text/latex": [
       "\\begin{tabular}{r|cccccc}\n",
       "\t& date & max\\_temperature\\_f & mean\\_temperature\\_f & min\\_temperature\\_f & max\\_dew\\_point\\_f & \\\\\n",
       "\t\\hline\n",
       "\t& String & Int64? & Int64? & Int64? & Int64? & \\\\\n",
       "\t\\hline\n",
       "\t1 & 8/29/13 & 74 & 68 & 61 & 61 & $\\dots$ \\\\\n",
       "\t2 & 8/30/13 & 78 & 69 & 60 & 61 & $\\dots$ \\\\\n",
       "\t3 & 8/31/13 & 71 & 64 & 57 & 57 & $\\dots$ \\\\\n",
       "\t4 & 9/1/13 & 74 & 66 & 58 & 60 & $\\dots$ \\\\\n",
       "\t5 & 9/2/13 & 75 & 69 & 62 & 61 & $\\dots$ \\\\\n",
       "\t6 & 9/3/13 & 73 & 67 & 60 & 59 & $\\dots$ \\\\\n",
       "\t7 & 9/4/13 & 74 & 68 & 61 & 59 & $\\dots$ \\\\\n",
       "\t8 & 9/5/13 & 72 & 66 & 60 & 57 & $\\dots$ \\\\\n",
       "\t9 & 9/6/13 & 85 & 71 & 56 & 57 & $\\dots$ \\\\\n",
       "\t10 & 9/7/13 & 88 & 73 & 58 & 64 & $\\dots$ \\\\\n",
       "\t11 & 9/8/13 & 74 & 65 & 56 & 58 & $\\dots$ \\\\\n",
       "\t12 & 9/9/13 & 76 & 66 & 55 & 58 & $\\dots$ \\\\\n",
       "\t13 & 9/10/13 & 74 & 66 & 57 & 59 & $\\dots$ \\\\\n",
       "\t14 & 9/11/13 & 74 & 68 & 62 & 57 & $\\dots$ \\\\\n",
       "\t15 & 9/12/13 & 71 & 65 & 59 & 58 & $\\dots$ \\\\\n",
       "\t16 & 9/13/13 & 66 & 62 & 57 & 55 & $\\dots$ \\\\\n",
       "\t17 & 9/14/13 & 66 & 62 & 57 & 55 & $\\dots$ \\\\\n",
       "\t18 & 9/15/13 & 73 & 66 & 58 & 59 & $\\dots$ \\\\\n",
       "\t19 & 9/16/13 & 71 & 65 & 59 & 58 & $\\dots$ \\\\\n",
       "\t20 & 9/17/13 & 68 & 63 & 57 & 55 & $\\dots$ \\\\\n",
       "\t21 & 9/18/13 & 78 & 66 & 54 & 55 & $\\dots$ \\\\\n",
       "\t22 & 9/19/13 & 80 & 67 & 54 & 56 & $\\dots$ \\\\\n",
       "\t23 & 9/20/13 & 73 & 65 & 56 & 59 & $\\dots$ \\\\\n",
       "\t24 & 9/21/13 & 68 & 63 & 58 & 59 & $\\dots$ \\\\\n",
       "\t25 & 9/22/13 & 70 & 63 & 55 & 55 & $\\dots$ \\\\\n",
       "\t26 & 9/23/13 & 78 & 68 & 57 & 58 & $\\dots$ \\\\\n",
       "\t27 & 9/24/13 & 71 & 65 & 58 & 54 & $\\dots$ \\\\\n",
       "\t28 & 9/25/13 & 67 & 62 & 56 & 51 & $\\dots$ \\\\\n",
       "\t29 & 9/26/13 & 71 & 62 & 53 & 46 & $\\dots$ \\\\\n",
       "\t30 & 9/27/13 & 78 & 66 & 54 & 47 & $\\dots$ \\\\\n",
       "\t$\\dots$ & $\\dots$ & $\\dots$ & $\\dots$ & $\\dots$ & $\\dots$ &  \\\\\n",
       "\\end{tabular}\n"
      ],
      "text/plain": [
       "3665×24 DataFrame. Omitted printing of 20 columns\n",
       "│ Row  │ date    │ max_temperature_f │ mean_temperature_f │ min_temperature_f │\n",
       "│      │ \u001b[90mString\u001b[39m  │ \u001b[90mInt64?\u001b[39m            │ \u001b[90mInt64?\u001b[39m             │ \u001b[90mInt64?\u001b[39m            │\n",
       "├──────┼─────────┼───────────────────┼────────────────────┼───────────────────┤\n",
       "│ 1    │ 8/29/13 │ 74                │ 68                 │ 61                │\n",
       "│ 2    │ 8/30/13 │ 78                │ 69                 │ 60                │\n",
       "│ 3    │ 8/31/13 │ 71                │ 64                 │ 57                │\n",
       "│ 4    │ 9/1/13  │ 74                │ 66                 │ 58                │\n",
       "│ 5    │ 9/2/13  │ 75                │ 69                 │ 62                │\n",
       "│ 6    │ 9/3/13  │ 73                │ 67                 │ 60                │\n",
       "│ 7    │ 9/4/13  │ 74                │ 68                 │ 61                │\n",
       "│ 8    │ 9/5/13  │ 72                │ 66                 │ 60                │\n",
       "│ 9    │ 9/6/13  │ 85                │ 71                 │ 56                │\n",
       "│ 10   │ 9/7/13  │ 88                │ 73                 │ 58                │\n",
       "⋮\n",
       "│ 3655 │ 8/21/15 │ 79                │ 70                 │ 60                │\n",
       "│ 3656 │ 8/22/15 │ 81                │ 70                 │ 59                │\n",
       "│ 3657 │ 8/23/15 │ 77                │ 69                 │ 60                │\n",
       "│ 3658 │ 8/24/15 │ 77                │ 70                 │ 62                │\n",
       "│ 3659 │ 8/25/15 │ 80                │ 70                 │ 59                │\n",
       "│ 3660 │ 8/26/15 │ 86                │ 73                 │ 59                │\n",
       "│ 3661 │ 8/27/15 │ 92                │ 78                 │ 63                │\n",
       "│ 3662 │ 8/28/15 │ 95                │ 80                 │ 64                │\n",
       "│ 3663 │ 8/29/15 │ 80                │ 72                 │ 64                │\n",
       "│ 3664 │ 8/30/15 │ 78                │ 70                 │ 62                │\n",
       "│ 3665 │ 8/31/15 │ 85                │ 72                 │ 59                │"
      ]
     },
     "execution_count": 116,
     "metadata": {},
     "output_type": "execute_result"
    }
   ],
   "source": [
    "final_imputed_data = CSV.read(\"weather.csv\")\n",
    "final_imputed_data[:, 20] = imputed_data[:, 19] # precipiaion_inches\n",
    "final_imputed_data"
   ]
  },
  {
   "cell_type": "code",
   "execution_count": 118,
   "metadata": {},
   "outputs": [
    {
     "data": {
      "text/plain": [
       "3665-element SentinelArrays.SentinelArray{Float64,1,Float64,Missing,Array{Float64,1}}:\n",
       " 0.0\n",
       " 0.0\n",
       " 0.0\n",
       " 0.0\n",
       " 0.0\n",
       " 0.0\n",
       " 0.0\n",
       " 0.0\n",
       " 0.0\n",
       " 0.0\n",
       " 0.0\n",
       " 0.0\n",
       " 0.0\n",
       " ⋮\n",
       " 0.0\n",
       " 0.0\n",
       " 0.0\n",
       " 0.0\n",
       " 0.0\n",
       " 0.0\n",
       " 0.0\n",
       " 0.0\n",
       " 0.0\n",
       " 0.0\n",
       " 0.0\n",
       " 0.0"
      ]
     },
     "execution_count": 118,
     "metadata": {},
     "output_type": "execute_result"
    }
   ],
   "source": [
    "final_imputed_data.precipitation_inches"
   ]
  },
  {
   "cell_type": "code",
   "execution_count": null,
   "metadata": {},
   "outputs": [],
   "source": []
  }
 ],
 "metadata": {
  "kernelspec": {
   "display_name": "Julia 1.5.1",
   "language": "julia",
   "name": "julia-1.5"
  },
  "language_info": {
   "file_extension": ".jl",
   "mimetype": "application/julia",
   "name": "julia",
   "version": "1.5.1"
  }
 },
 "nbformat": 4,
 "nbformat_minor": 4
}
