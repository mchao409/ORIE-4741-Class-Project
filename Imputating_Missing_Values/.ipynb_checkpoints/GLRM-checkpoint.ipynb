{
 "cells": [
  {
   "cell_type": "code",
   "execution_count": 123,
   "metadata": {},
   "outputs": [
    {
     "name": "stderr",
     "output_type": "stream",
     "text": [
      "\u001b[32m\u001b[1m  Resolving\u001b[22m\u001b[39m package versions...\n",
      "\u001b[32m\u001b[1mNo Changes\u001b[22m\u001b[39m to `~/.julia/environments/v1.5/Project.toml`\n",
      "\u001b[32m\u001b[1mNo Changes\u001b[22m\u001b[39m to `~/.julia/environments/v1.5/Manifest.toml`\n",
      "\u001b[32m\u001b[1m  Resolving\u001b[22m\u001b[39m package versions...\n",
      "\u001b[32m\u001b[1mNo Changes\u001b[22m\u001b[39m to `~/.julia/environments/v1.5/Project.toml`\n",
      "\u001b[32m\u001b[1mNo Changes\u001b[22m\u001b[39m to `~/.julia/environments/v1.5/Manifest.toml`\n"
     ]
    }
   ],
   "source": [
    "import Pkg;\n",
    "Pkg.add(\"PyPlot\")\n",
    "using PyPlot\n",
    "using Random, LinearAlgebra, Statistics, DataFrames, Plots\n",
    "Pkg.add(\"CSV\")\n",
    "using CSV"
   ]
  },
  {
   "cell_type": "code",
   "execution_count": 124,
   "metadata": {},
   "outputs": [],
   "source": [
    "using LowRankModels"
   ]
  },
  {
   "cell_type": "code",
   "execution_count": 125,
   "metadata": {},
   "outputs": [
    {
     "data": {
      "text/html": [
       "<table class=\"data-frame\"><thead><tr><th></th><th>dae</th><th>max_emperaure_f</th><th>mean_emperaure_f</th><th>min_emperaure_f</th><th>max_dew_poin_f</th><th>mean_dew_poin_f</th></tr><tr><th></th><th>String</th><th>Int64?</th><th>Int64?</th><th>Int64?</th><th>Int64?</th><th>Int64?</th></tr></thead><tbody><p>6 rows × 24 columns (omitted printing of 18 columns)</p><tr><th>1</th><td>8/29/13</td><td>74</td><td>68</td><td>61</td><td>61</td><td>58</td></tr><tr><th>2</th><td>8/30/13</td><td>78</td><td>69</td><td>60</td><td>61</td><td>58</td></tr><tr><th>3</th><td>8/31/13</td><td>71</td><td>64</td><td>57</td><td>57</td><td>56</td></tr><tr><th>4</th><td>9/1/13</td><td>74</td><td>66</td><td>58</td><td>60</td><td>56</td></tr><tr><th>5</th><td>9/2/13</td><td>75</td><td>69</td><td>62</td><td>61</td><td>60</td></tr><tr><th>6</th><td>9/3/13</td><td>73</td><td>67</td><td>60</td><td>59</td><td>56</td></tr></tbody></table>"
      ],
      "text/latex": [
       "\\begin{tabular}{r|ccccccc}\n",
       "\t& dae & max\\_emperaure\\_f & mean\\_emperaure\\_f & min\\_emperaure\\_f & max\\_dew\\_poin\\_f & mean\\_dew\\_poin\\_f & \\\\\n",
       "\t\\hline\n",
       "\t& String & Int64? & Int64? & Int64? & Int64? & Int64? & \\\\\n",
       "\t\\hline\n",
       "\t1 & 8/29/13 & 74 & 68 & 61 & 61 & 58 & $\\dots$ \\\\\n",
       "\t2 & 8/30/13 & 78 & 69 & 60 & 61 & 58 & $\\dots$ \\\\\n",
       "\t3 & 8/31/13 & 71 & 64 & 57 & 57 & 56 & $\\dots$ \\\\\n",
       "\t4 & 9/1/13 & 74 & 66 & 58 & 60 & 56 & $\\dots$ \\\\\n",
       "\t5 & 9/2/13 & 75 & 69 & 62 & 61 & 60 & $\\dots$ \\\\\n",
       "\t6 & 9/3/13 & 73 & 67 & 60 & 59 & 56 & $\\dots$ \\\\\n",
       "\\end{tabular}\n"
      ],
      "text/plain": [
       "6×24 DataFrame. Omitted printing of 20 columns\n",
       "│ Row │ dae     │ max_emperaure_f │ mean_emperaure_f │ min_emperaure_f │\n",
       "│     │ \u001b[90mString\u001b[39m  │ \u001b[90mInt64?\u001b[39m          │ \u001b[90mInt64?\u001b[39m           │ \u001b[90mInt64?\u001b[39m          │\n",
       "├─────┼─────────┼─────────────────┼──────────────────┼─────────────────┤\n",
       "│ 1   │ 8/29/13 │ 74              │ 68               │ 61              │\n",
       "│ 2   │ 8/30/13 │ 78              │ 69               │ 60              │\n",
       "│ 3   │ 8/31/13 │ 71              │ 64               │ 57              │\n",
       "│ 4   │ 9/1/13  │ 74              │ 66               │ 58              │\n",
       "│ 5   │ 9/2/13  │ 75              │ 69               │ 62              │\n",
       "│ 6   │ 9/3/13  │ 73              │ 67               │ 60              │"
      ]
     },
     "execution_count": 125,
     "metadata": {},
     "output_type": "execute_result"
    }
   ],
   "source": [
    "data = CSV.read(\"weather.csv\")\n",
    "head(data)"
   ]
  },
  {
   "cell_type": "code",
   "execution_count": 126,
   "metadata": {},
   "outputs": [
    {
     "name": "stdout",
     "output_type": "stream",
     "text": [
      "1\tdae\tString\n",
      "2\tmax_emperaure_f\tUnion{Missing, Int64}\n",
      "3\tmean_emperaure_f\tUnion{Missing, Int64}\n",
      "4\tmin_emperaure_f\tUnion{Missing, Int64}\n",
      "5\tmax_dew_poin_f\tUnion{Missing, Int64}\n",
      "6\tmean_dew_poin_f\tUnion{Missing, Int64}\n",
      "7\tmin_dew_poin_f\tUnion{Missing, Int64}\n",
      "8\tmax_humidiy\tUnion{Missing, Int64}\n",
      "9\tmean_humidiy\tUnion{Missing, Int64}\n",
      "10\tmin_humidiy\tUnion{Missing, Int64}\n",
      "11\tmax_sea_level_pressure_inches\tUnion{Missing, Float64}\n",
      "12\tmean_sea_level_pressure_inches\tUnion{Missing, Float64}\n",
      "13\tmin_sea_level_pressure_inches\tUnion{Missing, Float64}\n",
      "14\tmax_visibiliy_miles\tUnion{Missing, Int64}\n",
      "15\tmean_visibiliy_miles\tUnion{Missing, Int64}\n",
      "16\tmin_visibiliy_miles\tUnion{Missing, Int64}\n",
      "17\tmax_wind_Speed_mph\tUnion{Missing, Int64}\n",
      "18\tmean_wind_speed_mph\tUnion{Missing, Int64}\n",
      "19\tmax_gus_speed_mph\tUnion{Missing, Int64}\n",
      "20\tprecipiaion_inches\tUnion{Missing, Float64}\n",
      "21\tcloud_cover\tUnion{Missing, Int64}\n",
      "22\tevens\tUnion{Missing, String}\n",
      "23\twind_dir_degrees\tUnion{Missing, Int64}\n",
      "24\tzip_code\tInt64\n"
     ]
    }
   ],
   "source": [
    "# Look at the column names\n",
    "feature_names = names(data)\n",
    "for i in 1:size(data)[2]\n",
    "    println(string(i), \"\\t\", string(feature_names[i]), \"\\t\", string(eltype(data[!, i])))\n",
    "end"
   ]
  },
  {
   "cell_type": "code",
   "execution_count": 127,
   "metadata": {},
   "outputs": [],
   "source": [
    "# inserts \"None\" for every blank cell in Events \n",
    "# data.events = coalesce.(data.events, \"None\")\n",
    "\n",
    "# TODO: delete row 2912 (since that row is completely empty: 8/8/15)"
   ]
  },
  {
   "cell_type": "code",
   "execution_count": 128,
   "metadata": {},
   "outputs": [
    {
     "data": {
      "text/plain": [
       "144-element Array{Any,1}:\n",
       " (20, 33)\n",
       " (20, 60)\n",
       " (20, 76)\n",
       " (20, 85)\n",
       " (20, 96)\n",
       " (20, 132)\n",
       " (20, 134)\n",
       " (20, 136)\n",
       " (20, 154)\n",
       " (20, 155)\n",
       " (20, 166)\n",
       " (20, 171)\n",
       " (20, 373)\n",
       " ⋮\n",
       " (20, 3525)\n",
       " (20, 3536)\n",
       " (20, 3561)\n",
       " (20, 3564)\n",
       " (20, 3582)\n",
       " (20, 3604)\n",
       " (20, 3606)\n",
       " (20, 3612)\n",
       " (20, 3613)\n",
       " (20, 3622)\n",
       " (20, 3634)\n",
       " (20, 3653)"
      ]
     },
     "execution_count": 128,
     "metadata": {},
     "output_type": "execute_result"
    }
   ],
   "source": [
    "# locate missing data in the precipitation_inches column (column #20)\n",
    "missingList = []\n",
    "\n",
    "for row in 1:size(data)[1]\n",
    "    if ismissing(data[row,20])\n",
    "        push!(missingList, (20,row))\n",
    "    end\n",
    "end\n",
    "\n",
    "# in total there are 143 missing elements that come from:\n",
    "# cols 20\n",
    "# rows 33, 60, 76 ... , 3653\n",
    "\n",
    "missingList"
   ]
  },
  {
   "cell_type": "code",
   "execution_count": 129,
   "metadata": {},
   "outputs": [
    {
     "data": {
      "text/html": [
       "<table class=\"data-frame\"><thead><tr><th></th><th>max_emperaure_f</th><th>mean_emperaure_f</th><th>min_emperaure_f</th><th>max_dew_poin_f</th><th>mean_dew_poin_f</th></tr><tr><th></th><th>Int64?</th><th>Int64?</th><th>Int64?</th><th>Int64?</th><th>Int64?</th></tr></thead><tbody><p>3,665 rows × 20 columns (omitted printing of 15 columns)</p><tr><th>1</th><td>74</td><td>68</td><td>61</td><td>61</td><td>58</td></tr><tr><th>2</th><td>78</td><td>69</td><td>60</td><td>61</td><td>58</td></tr><tr><th>3</th><td>71</td><td>64</td><td>57</td><td>57</td><td>56</td></tr><tr><th>4</th><td>74</td><td>66</td><td>58</td><td>60</td><td>56</td></tr><tr><th>5</th><td>75</td><td>69</td><td>62</td><td>61</td><td>60</td></tr><tr><th>6</th><td>73</td><td>67</td><td>60</td><td>59</td><td>56</td></tr><tr><th>7</th><td>74</td><td>68</td><td>61</td><td>59</td><td>57</td></tr><tr><th>8</th><td>72</td><td>66</td><td>60</td><td>57</td><td>56</td></tr><tr><th>9</th><td>85</td><td>71</td><td>56</td><td>57</td><td>51</td></tr><tr><th>10</th><td>88</td><td>73</td><td>58</td><td>64</td><td>54</td></tr><tr><th>11</th><td>74</td><td>65</td><td>56</td><td>58</td><td>54</td></tr><tr><th>12</th><td>76</td><td>66</td><td>55</td><td>58</td><td>55</td></tr><tr><th>13</th><td>74</td><td>66</td><td>57</td><td>59</td><td>56</td></tr><tr><th>14</th><td>74</td><td>68</td><td>62</td><td>57</td><td>55</td></tr><tr><th>15</th><td>71</td><td>65</td><td>59</td><td>58</td><td>57</td></tr><tr><th>16</th><td>66</td><td>62</td><td>57</td><td>55</td><td>54</td></tr><tr><th>17</th><td>66</td><td>62</td><td>57</td><td>55</td><td>54</td></tr><tr><th>18</th><td>73</td><td>66</td><td>58</td><td>59</td><td>55</td></tr><tr><th>19</th><td>71</td><td>65</td><td>59</td><td>58</td><td>55</td></tr><tr><th>20</th><td>68</td><td>63</td><td>57</td><td>55</td><td>53</td></tr><tr><th>21</th><td>78</td><td>66</td><td>54</td><td>55</td><td>49</td></tr><tr><th>22</th><td>80</td><td>67</td><td>54</td><td>56</td><td>50</td></tr><tr><th>23</th><td>73</td><td>65</td><td>56</td><td>59</td><td>56</td></tr><tr><th>24</th><td>68</td><td>63</td><td>58</td><td>59</td><td>56</td></tr><tr><th>25</th><td>70</td><td>63</td><td>55</td><td>55</td><td>53</td></tr><tr><th>26</th><td>78</td><td>68</td><td>57</td><td>58</td><td>54</td></tr><tr><th>27</th><td>71</td><td>65</td><td>58</td><td>54</td><td>52</td></tr><tr><th>28</th><td>67</td><td>62</td><td>56</td><td>51</td><td>47</td></tr><tr><th>29</th><td>71</td><td>62</td><td>53</td><td>46</td><td>43</td></tr><tr><th>30</th><td>78</td><td>66</td><td>54</td><td>47</td><td>41</td></tr><tr><th>&vellip;</th><td>&vellip;</td><td>&vellip;</td><td>&vellip;</td><td>&vellip;</td><td>&vellip;</td></tr></tbody></table>"
      ],
      "text/latex": [
       "\\begin{tabular}{r|cccccc}\n",
       "\t& max\\_emperaure\\_f & mean\\_emperaure\\_f & min\\_emperaure\\_f & max\\_dew\\_poin\\_f & mean\\_dew\\_poin\\_f & \\\\\n",
       "\t\\hline\n",
       "\t& Int64? & Int64? & Int64? & Int64? & Int64? & \\\\\n",
       "\t\\hline\n",
       "\t1 & 74 & 68 & 61 & 61 & 58 & $\\dots$ \\\\\n",
       "\t2 & 78 & 69 & 60 & 61 & 58 & $\\dots$ \\\\\n",
       "\t3 & 71 & 64 & 57 & 57 & 56 & $\\dots$ \\\\\n",
       "\t4 & 74 & 66 & 58 & 60 & 56 & $\\dots$ \\\\\n",
       "\t5 & 75 & 69 & 62 & 61 & 60 & $\\dots$ \\\\\n",
       "\t6 & 73 & 67 & 60 & 59 & 56 & $\\dots$ \\\\\n",
       "\t7 & 74 & 68 & 61 & 59 & 57 & $\\dots$ \\\\\n",
       "\t8 & 72 & 66 & 60 & 57 & 56 & $\\dots$ \\\\\n",
       "\t9 & 85 & 71 & 56 & 57 & 51 & $\\dots$ \\\\\n",
       "\t10 & 88 & 73 & 58 & 64 & 54 & $\\dots$ \\\\\n",
       "\t11 & 74 & 65 & 56 & 58 & 54 & $\\dots$ \\\\\n",
       "\t12 & 76 & 66 & 55 & 58 & 55 & $\\dots$ \\\\\n",
       "\t13 & 74 & 66 & 57 & 59 & 56 & $\\dots$ \\\\\n",
       "\t14 & 74 & 68 & 62 & 57 & 55 & $\\dots$ \\\\\n",
       "\t15 & 71 & 65 & 59 & 58 & 57 & $\\dots$ \\\\\n",
       "\t16 & 66 & 62 & 57 & 55 & 54 & $\\dots$ \\\\\n",
       "\t17 & 66 & 62 & 57 & 55 & 54 & $\\dots$ \\\\\n",
       "\t18 & 73 & 66 & 58 & 59 & 55 & $\\dots$ \\\\\n",
       "\t19 & 71 & 65 & 59 & 58 & 55 & $\\dots$ \\\\\n",
       "\t20 & 68 & 63 & 57 & 55 & 53 & $\\dots$ \\\\\n",
       "\t21 & 78 & 66 & 54 & 55 & 49 & $\\dots$ \\\\\n",
       "\t22 & 80 & 67 & 54 & 56 & 50 & $\\dots$ \\\\\n",
       "\t23 & 73 & 65 & 56 & 59 & 56 & $\\dots$ \\\\\n",
       "\t24 & 68 & 63 & 58 & 59 & 56 & $\\dots$ \\\\\n",
       "\t25 & 70 & 63 & 55 & 55 & 53 & $\\dots$ \\\\\n",
       "\t26 & 78 & 68 & 57 & 58 & 54 & $\\dots$ \\\\\n",
       "\t27 & 71 & 65 & 58 & 54 & 52 & $\\dots$ \\\\\n",
       "\t28 & 67 & 62 & 56 & 51 & 47 & $\\dots$ \\\\\n",
       "\t29 & 71 & 62 & 53 & 46 & 43 & $\\dots$ \\\\\n",
       "\t30 & 78 & 66 & 54 & 47 & 41 & $\\dots$ \\\\\n",
       "\t$\\dots$ & $\\dots$ & $\\dots$ & $\\dots$ & $\\dots$ & $\\dots$ &  \\\\\n",
       "\\end{tabular}\n"
      ],
      "text/plain": [
       "3665×20 DataFrame. Omitted printing of 16 columns\n",
       "│ Row  │ max_emperaure_f │ mean_emperaure_f │ min_emperaure_f │ max_dew_poin_f │\n",
       "│      │ \u001b[90mInt64?\u001b[39m          │ \u001b[90mInt64?\u001b[39m           │ \u001b[90mInt64?\u001b[39m          │ \u001b[90mInt64?\u001b[39m         │\n",
       "├──────┼─────────────────┼──────────────────┼─────────────────┼────────────────┤\n",
       "│ 1    │ 74              │ 68               │ 61              │ 61             │\n",
       "│ 2    │ 78              │ 69               │ 60              │ 61             │\n",
       "│ 3    │ 71              │ 64               │ 57              │ 57             │\n",
       "│ 4    │ 74              │ 66               │ 58              │ 60             │\n",
       "│ 5    │ 75              │ 69               │ 62              │ 61             │\n",
       "│ 6    │ 73              │ 67               │ 60              │ 59             │\n",
       "│ 7    │ 74              │ 68               │ 61              │ 59             │\n",
       "│ 8    │ 72              │ 66               │ 60              │ 57             │\n",
       "│ 9    │ 85              │ 71               │ 56              │ 57             │\n",
       "│ 10   │ 88              │ 73               │ 58              │ 64             │\n",
       "⋮\n",
       "│ 3655 │ 79              │ 70               │ 60              │ 60             │\n",
       "│ 3656 │ 81              │ 70               │ 59              │ 60             │\n",
       "│ 3657 │ 77              │ 69               │ 60              │ 59             │\n",
       "│ 3658 │ 77              │ 70               │ 62              │ 59             │\n",
       "│ 3659 │ 80              │ 70               │ 59              │ 60             │\n",
       "│ 3660 │ 86              │ 73               │ 59              │ 59             │\n",
       "│ 3661 │ 92              │ 78               │ 63              │ 57             │\n",
       "│ 3662 │ 95              │ 80               │ 64              │ 64             │\n",
       "│ 3663 │ 80              │ 72               │ 64              │ 65             │\n",
       "│ 3664 │ 78              │ 70               │ 62              │ 60             │\n",
       "│ 3665 │ 85              │ 72               │ 59              │ 59             │"
      ]
     },
     "execution_count": 129,
     "metadata": {},
     "output_type": "execute_result"
    }
   ],
   "source": [
    "# impute missing data\n",
    "# losses = Loss[QuadLoss(), LogisticLoss(), HingeLoss()]\n",
    "# rw = Regularizer[QuadReg(), QuadReg(), OneReg()]\n",
    "\n",
    "data = data[:,2:21]\n",
    "data"
   ]
  },
  {
   "cell_type": "code",
   "execution_count": 130,
   "metadata": {},
   "outputs": [],
   "source": [
    "# impute missing data\n",
    "# losses = Loss[QuadLoss(), LogisticLoss(), HingeLoss()]\n",
    "# rw = Regularizer[QuadReg(), QuadReg(), OneReg()]\n",
    "\n",
    "Y = data\n",
    "l2 = QuadLoss()\n",
    "l1 = L1Loss()\n",
    "nonneg = NonNegConstraint()\n",
    "quad = QuadReg()\n",
    "lin = OneReg()\n",
    "zero = ZeroReg()\n",
    "k = size(data)[2]\n",
    "\n",
    "Ω = [(x,y) for x=1:size(data)[1] , y=1:size(data)[2] if !isMissing(data[x,y])];"
   ]
  },
  {
   "cell_type": "code",
   "execution_count": 131,
   "metadata": {},
   "outputs": [
    {
     "name": "stdout",
     "output_type": "stream",
     "text": [
      "Fitting GLRM\n",
      "Iteration 10: objective value = 238901.48636763904\n",
      "Iteration 20: objective value = 166522.61425776224\n",
      "Iteration 30: objective value = 131711.63649227258\n",
      "Iteration 40: objective value = 113077.13373873197\n",
      "Iteration 50: objective value = 102001.5275460532\n",
      "Iteration 60: objective value = 95523.95843358946\n",
      "Iteration 70: objective value = 91486.05446110108\n",
      "Iteration 80: objective value = 88822.38566641975\n",
      "Iteration 90: objective value = 86944.01443145782\n",
      "Iteration 100: objective value = 85426.50336860861\n"
     ]
    },
    {
     "data": {
      "text/plain": [
       "([-0.04898225743654448 -0.47000857403869434 … -1.063783284619916 -0.8109767842778177; -0.6569391969206061 -0.7427771563123813 … -1.45619300128584 -1.4946002823316897; … ; -0.7598351158645583 -0.7251606405389017 … -0.41259627036987284 0.16597609690879522; 0.5851168473497012 0.14587626013361638 … 0.2482117212302724 0.3389742922599046], [-4.456830694709589 -3.578187616028116 … 0.14428246375156978 0.5896452700660914; -9.286000229844388 -7.428950605700337 … -0.30650648549348897 0.41800659023840303; … ; -1.194436998647146 -2.0207051491036143 … -0.324843706871191 -0.6661999072910036; 0.6096340970449956 2.2143562511890797 … 0.14705474936823454 -0.5090240752021588], ConvergenceHistory(\"ProxGradGLRM\", [2.608133676395894e6, 2.445736035337682e6, 2.0842395628861052e6, 928360.4738207563, 530360.1388675608, 412146.9307775741, 352385.02248461347, 303046.86457144003, 275003.26169041835, 251404.47246990705  …  86769.23015978294, 86595.92886876146, 86435.21441535352, 86282.53466496497, 86133.0543773437, 85978.08682735411, 85823.10620154254, 85695.25937894262, 85545.73795389196, 85426.50336860861], Float64[], [0.0, 0.0, 0.0, 0.0, 0.0, 0.0, 0.0, 0.0, 0.0, 0.0  …  0.0, 0.0, 0.0, 0.0, 0.0, 0.0, 0.0, 0.0, 0.0, 0.0], [0.0, 0.0, 0.0, 0.0, 0.0, 0.0, 0.0, 0.0, 0.0, 0.0  …  0.0, 0.0, 0.0, 0.0, 0.0, 0.0, 0.0, 0.0, 0.0, 0.0], [0.0, 0.2543058395385742, 0.38823986053466797, 0.5421009063720703, 0.7223749160766602, 0.8905689716339111, 1.0935158729553223, 1.2895350456237793, 1.455854892730713, 1.596463680267334  …  13.337679624557495, 13.491239547729492, 13.617620706558228, 13.760657548904419, 13.905490636825562, 14.022598505020142, 14.16714859008789, 14.285639524459839, 14.428885459899902, 14.547341585159302], [0.0, 0.0, 0.0, 0.0, 0.0, 0.0, 0.0, 0.0, 0.0, 0.0  …  0.0, 0.0, 0.0, 0.0, 0.0, 0.0, 0.0, 0.0, 0.0, 0.0], 0))"
      ]
     },
     "execution_count": 131,
     "metadata": {},
     "output_type": "execute_result"
    }
   ],
   "source": [
    "glrm = GLRM(Y, l1, quad, quad, k, obs=Ω)\n",
    "X,W,ch = fit!(glrm, maxiter=1000)"
   ]
  },
  {
   "cell_type": "code",
   "execution_count": 132,
   "metadata": {},
   "outputs": [
    {
     "data": {
      "text/plain": [
       "3665×20 Array{Number,2}:\n",
       " 74  68  61  61  58  56  93  75  57  30.07  …  10  10  10  23  11  28  0.0  4\n",
       " 78  69  60  61  58  56  90  70  50  30.05     10  10   7  29  13  35  0.0  2\n",
       " 71  64  57  57  56  54  93  75  57  30.0      10  10  10  26  15  31  0.0  4\n",
       " 74  66  58  60  56  53  87  68  49  29.96     10  10  10  25  13  29  0.0  4\n",
       " 75  69  62  61  60  58  93  77  61  29.97     10  10   6  23  12  30  0.0  6\n",
       " 73  67  60  59  56  51  84  65  46  30.02  …  10  10  10  24  15  31  0.0  2\n",
       " 74  68  61  59  57  56  90  72  53  30.05     10  10  10  29  19  35  0.0  4\n",
       " 72  66  60  57  56  54  90  74  57  30.04     10  10  10  31  21  37  0.0  3\n",
       " 85  71  56  57  51  45  86  58  29  30.0      10  10  10  24   8  28  0.0  0\n",
       " 88  73  58  64  54  46  86  59  31  29.88     10  10  10  21   8  25  0.0  1\n",
       " 74  65  56  58  54  52  86  70  53  29.88  …  10  10  10  26  11  31  0.0  2\n",
       " 76  66  55  58  55  52  90  70  50  29.82     10  10  10  26  11  30  0.0  1\n",
       " 74  66  57  59  56  54  93  73  53  29.91     10  10  10  17   8  21  0.0  1\n",
       "  ⋮                   ⋮                     ⋱               ⋮               \n",
       " 75  69  62  59  58  57  84  71  57  29.93     10  10   9  15   6  18  0.0  4\n",
       " 79  70  60  60  57  55  84  67  50  29.91     10  10   8  16   8  21  0.0  3\n",
       " 81  70  59  60  56  55  87  66  45  29.95  …  10  10  10  16   7  20  0.0  4\n",
       " 77  69  60  59  57  55  90  72  54  30.02     10  10  10  16   7  20  0.0  6\n",
       " 77  70  62  59  57  57  84  67  50  30.06     10  10   9  15   7  18  0.0  3\n",
       " 80  70  59  60  58  57  90  71  52  30.01     10   9   6  16   6  20  0.0  4\n",
       " 86  73  59  59  54  40  90  55  20  30.04     10   9   5  14   5  17  0.0  3\n",
       " 92  78  63  57  51  40  78  48  18  30.05  …  10  10  10  23   6  29  0.0  3\n",
       " 95  80  64  64  56  52  93  60  26  29.96     10  10  10  25   7  30  0.0  3\n",
       " 80  72  64  65  62  54  93  70  47  30.01     10  10  10  21   9  26  0.0  4\n",
       " 78  70  62  60  57  53  84  64  43  30.06     10  10  10  22  10  29  0.0  3\n",
       " 85  72  59  59  55  51  84  58  32  29.95     10  10  10  20   6  24  0.0  1"
      ]
     },
     "execution_count": 132,
     "metadata": {},
     "output_type": "execute_result"
    }
   ],
   "source": [
    "imputed_data = impute_missing(glrm)"
   ]
  },
  {
   "cell_type": "code",
   "execution_count": null,
   "metadata": {},
   "outputs": [],
   "source": []
  }
 ],
 "metadata": {
  "kernelspec": {
   "display_name": "Julia 1.5.1",
   "language": "julia",
   "name": "julia-1.5"
  },
  "language_info": {
   "file_extension": ".jl",
   "mimetype": "application/julia",
   "name": "julia",
   "version": "1.5.1"
  }
 },
 "nbformat": 4,
 "nbformat_minor": 4
}
